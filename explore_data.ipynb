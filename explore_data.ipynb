{
 "cells": [
  {
   "cell_type": "code",
   "execution_count": null,
   "metadata": {
    "collapsed": false
   },
   "outputs": [],
   "source": [
    "%matplotlib inline\n",
    "import pandas as pd\n",
    "idx = pd.IndexSlice"
   ]
  },
  {
   "cell_type": "code",
   "execution_count": null,
   "metadata": {
    "collapsed": false
   },
   "outputs": [],
   "source": [
    "# Load in the CSV file\n",
    "chw_data = pd.DataFrame.from_csv('chw_data.csv').sort_index()\n",
    "# Clean the CSV\n",
    "chw_data.drop_duplicates('userCode', inplace=True)\n",
    "chw_data.sector.fillna('No info', inplace=True)"
   ]
  },
  {
   "cell_type": "code",
   "execution_count": null,
   "metadata": {
    "collapsed": false
   },
   "outputs": [],
   "source": [
    "chw_data.head()"
   ]
  },
  {
   "cell_type": "code",
   "execution_count": null,
   "metadata": {
    "collapsed": false
   },
   "outputs": [],
   "source": [
    "chw_data.tail()"
   ]
  },
  {
   "cell_type": "code",
   "execution_count": null,
   "metadata": {
    "collapsed": false
   },
   "outputs": [],
   "source": [
    "# Number of entries in the dataset\n",
    "len(chw_data)"
   ]
  },
  {
   "cell_type": "code",
   "execution_count": null,
   "metadata": {
    "collapsed": false
   },
   "outputs": [],
   "source": [
    "# Number of entries per user\n",
    "chw_data.groupby('userCode').size().order()"
   ]
  },
  {
   "cell_type": "code",
   "execution_count": null,
   "metadata": {
    "collapsed": false
   },
   "outputs": [],
   "source": [
    "# The number of forms submitted by user with userCode 7765\n",
    "chw_data[chw_data.userCode == 7765].groupby(['projectCode', 'userCode']).sum()"
   ]
  },
  {
   "cell_type": "code",
   "execution_count": null,
   "metadata": {
    "collapsed": false
   },
   "outputs": [],
   "source": [
    "# The project and user code for each user\n",
    "chw_data[['projectCode', 'userCode']].set_index('userCode').sort_index().drop_duplicates()"
   ]
  },
  {
   "cell_type": "code",
   "execution_count": null,
   "metadata": {
    "collapsed": false,
    "scrolled": true
   },
   "outputs": [],
   "source": [
    "# The number of forms submitted for each project\n",
    "chw_data.drop(['userCode', 'activeQ2'], axis=1).groupby(['projectCode']).sum()"
   ]
  },
  {
   "cell_type": "code",
   "execution_count": null,
   "metadata": {
    "collapsed": false,
    "scrolled": true
   },
   "outputs": [],
   "source": [
    "# The number of forms submitted by each user\n",
    "chw_data.drop(['projectCode', 'activeQ2'], axis=1).groupby(['userCode']).sum()"
   ]
  },
  {
   "cell_type": "code",
   "execution_count": null,
   "metadata": {
    "collapsed": false
   },
   "outputs": [],
   "source": []
  },
  {
   "cell_type": "code",
   "execution_count": null,
   "metadata": {
    "collapsed": false
   },
   "outputs": [],
   "source": [
    "# Checking how normalization is done\n",
    "import numpy as np\n",
    "from sklearn.preprocessing import normalize\n",
    "\n",
    "arr = np.array([[1, 2, 3, 4, 5], [2, 4, 6, 8, 10]])\n",
    "normalized_arr = normalize(arr)\n",
    "print 'Row values equal after normalization:', all(normalized_arr[0] == normalized_arr[1])"
   ]
  },
  {
   "cell_type": "code",
   "execution_count": null,
   "metadata": {
    "collapsed": false
   },
   "outputs": [],
   "source": [
    "# Development of per project normalization code\n",
    "def normalize(group):\n",
    "    import math\n",
    "    eu_len = math.sqrt(group[xs].applymap(lambda x: x**2).sum(axis=1).sum())\n",
    "    return group[xs] / eu_len\n",
    "\n",
    "\n",
    "nd = chw_data.drop(['activeQ2', 'userCode', 'country', 'sector'], axis=1)\n",
    "xs = ['X%s' % i for i in range(1, 91)]\n",
    "\n",
    "grouped = nd.groupby('projectCode')\n",
    "grouped.apply(normalize)"
   ]
  }
 ],
 "metadata": {
  "kernelspec": {
   "display_name": "Python 2",
   "language": "python",
   "name": "python2"
  },
  "language_info": {
   "codemirror_mode": {
    "name": "ipython",
    "version": 2
   },
   "file_extension": ".py",
   "mimetype": "text/x-python",
   "name": "python",
   "nbconvert_exporter": "python",
   "pygments_lexer": "ipython2",
   "version": "2.7.9"
  }
 },
 "nbformat": 4,
 "nbformat_minor": 0
}
